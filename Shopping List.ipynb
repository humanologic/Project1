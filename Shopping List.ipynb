{
  "metadata": {
    "kernelspec": {
      "name": "python",
      "display_name": "Python (Pyodide)",
      "language": "python"
    },
    "language_info": {
      "codemirror_mode": {
        "name": "python",
        "version": 3
      },
      "file_extension": ".py",
      "mimetype": "text/x-python",
      "name": "python",
      "nbconvert_exporter": "python",
      "pygments_lexer": "ipython3",
      "version": "3.8"
    }
  },
  "nbformat_minor": 4,
  "nbformat": 4,
  "cells": [
    {
      "cell_type": "markdown",
      "source": "<center>\n    <img src=\"https://cf-courses-data.s3.us.cloud-object-storage.appdomain.cloud/IBMDeveloperSkillsNetwork-PY0101EN-SkillsNetwork/IDSNlogo.png\" width=\"300\" alt=\"cognitiveclass.ai logo\">\n</center>\n\n# Lists in Python\n\nEstimated time needed: **30** minutes\n\n## Objectives\n\nAfter completing this lab you will be able to:\n\n*   Perform list operations in Python, including indexing, list manipulation, and copy/clone list.\n",
      "metadata": {}
    },
    {
      "cell_type": "markdown",
      "source": "<a id=\"Scenario\"></a>\n## Scenario : Shopping list \n",
      "metadata": {}
    },
    {
      "cell_type": "markdown",
      "source": "# Task-1  Create an empty list",
      "metadata": {}
    },
    {
      "cell_type": "code",
      "source": "shopping_list = []",
      "metadata": {
        "trusted": true
      },
      "outputs": [],
      "execution_count": 19
    },
    {
      "cell_type": "markdown",
      "source": "# Task-2 Now store the number of items to the shopping_list\n* Watch\n* Laptop\n* Shoes\n* Pen\n* Clothes\n\n\n<br>\n\n",
      "metadata": {}
    },
    {
      "cell_type": "code",
      "source": "shopping_list = [\"Watch\", \"Laptop\", \"Shoes\", \"Pen\", \"Clothes\"]",
      "metadata": {
        "trusted": true
      },
      "outputs": [],
      "execution_count": 20
    },
    {
      "cell_type": "markdown",
      "source": "# Task-3 Add a new item to the shopping_list\nSeems like I missed one item \"Football\" to add in the shopping list.\n<br>\n",
      "metadata": {}
    },
    {
      "cell_type": "code",
      "source": "shopping_list.append(\"Football\")",
      "metadata": {
        "trusted": true
      },
      "outputs": [],
      "execution_count": 21
    },
    {
      "cell_type": "markdown",
      "source": "# Task-4 Print First item from the shopping_list\nLet's check the first item that we need to buy.\n<br>\n",
      "metadata": {}
    },
    {
      "cell_type": "code",
      "source": "#Type your code here\nprint(shopping_list[0])",
      "metadata": {
        "trusted": true
      },
      "outputs": [
        {
          "name": "stdout",
          "text": "Watch\n",
          "output_type": "stream"
        }
      ],
      "execution_count": 12
    },
    {
      "cell_type": "markdown",
      "source": "# Task-5 Print Last item from the shopping_list\nLet's check the last time that we need to buy.\n<br>\n",
      "metadata": {}
    },
    {
      "cell_type": "code",
      "source": "#Type your code here\nprint(shopping_list[-1])",
      "metadata": {
        "trusted": true
      },
      "outputs": [
        {
          "name": "stdout",
          "text": "Football\n",
          "output_type": "stream"
        }
      ],
      "execution_count": 13
    },
    {
      "cell_type": "markdown",
      "source": "# Task-6 Print the entire Shopping List\n",
      "metadata": {}
    },
    {
      "cell_type": "code",
      "source": "#Type your code here.\nprint(shopping_list)",
      "metadata": {
        "trusted": true
      },
      "outputs": [
        {
          "name": "stdout",
          "text": "['Watch', 'Laptop', 'Shoes', 'Pen', 'Clothes', 'Football']\n",
          "output_type": "stream"
        }
      ],
      "execution_count": 14
    },
    {
      "cell_type": "markdown",
      "source": "# Task-7 Print the item that are important to buy from the Shopping List\nPrint \"Laptop\" and \"shoes\"\n",
      "metadata": {}
    },
    {
      "cell_type": "code",
      "source": "#Type your code here\nprint(shopping_list[1:3])",
      "metadata": {
        "trusted": true
      },
      "outputs": [
        {
          "name": "stdout",
          "text": "['Laptop', 'Shoes']\n",
          "output_type": "stream"
        }
      ],
      "execution_count": 15
    },
    {
      "cell_type": "markdown",
      "source": "# Task-8 Change the item from the shopping_list \nInstead of <u>\"Pen\"</u> I want to buy <u>\"Notebook\"</u>\nlet's change the item stored in the list.\n<br>\n\n",
      "metadata": {}
    },
    {
      "cell_type": "code",
      "source": "#Type your code here\nshopping_list[3] = \"Notebook\"",
      "metadata": {
        "trusted": true
      },
      "outputs": [],
      "execution_count": 16
    },
    {
      "cell_type": "markdown",
      "source": "# Task-9 Delete the item from the shopping_list that is not required\nLet's delete items that are unimportant, such as; I don't want to buy <u>Clothes</u>, let's delete it.\n<br>\n\n",
      "metadata": {}
    },
    {
      "cell_type": "code",
      "source": "#Type your code here\ndel(shopping_list[4])",
      "metadata": {
        "trusted": true
      },
      "outputs": [],
      "execution_count": 17
    },
    {
      "cell_type": "markdown",
      "source": "# Task-10 Print the shopping list\nWe are ready with our shopping list.\n",
      "metadata": {}
    },
    {
      "cell_type": "code",
      "source": "# Type your code here\nprint(shopping_list)",
      "metadata": {
        "trusted": true
      },
      "outputs": [
        {
          "name": "stdout",
          "text": "['Watch', 'Laptop', 'Shoes', 'Notebook', 'Football']\n",
          "output_type": "stream"
        }
      ],
      "execution_count": 18
    }
  ]
}